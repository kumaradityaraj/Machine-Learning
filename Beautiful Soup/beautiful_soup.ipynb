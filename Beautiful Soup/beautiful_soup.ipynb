{
  "nbformat": 4,
  "nbformat_minor": 0,
  "metadata": {
    "colab": {
      "name": "beautiful_soup.ipynb",
      "provenance": []
    },
    "kernelspec": {
      "name": "python3",
      "display_name": "Python 3"
    },
    "language_info": {
      "name": "python"
    }
  },
  "cells": [
    {
      "cell_type": "code",
      "execution_count": 2,
      "metadata": {
        "id": "wtfDaPzjz99m"
      },
      "outputs": [],
      "source": [
        "html_content = \"\"\"<html>\n",
        "<head>\n",
        "    <title>Document Title </title>\n",
        "</head>\n",
        "<body>\n",
        "    <div class = 'content'>\n",
        "    <p class= 'first'> first para</p>\n",
        "    <p class= 'second'>second para</p>\n",
        "    <a href=\"www.xyz.com\" id=\"link1\">Link1</a>\n",
        "    <a href=\"www.pqr..com\" id=\"link2\">Link2</a>\n",
        "    </div>\n",
        "</body>\n",
        "</html>\"\"\"        "
      ]
    },
    {
      "cell_type": "code",
      "source": [
        "from bs4 import BeautifulSoup\n",
        "\n",
        "soup = BeautifulSoup(html_content,'html.parser')"
      ],
      "metadata": {
        "id": "mvgIcB-O4Lli"
      },
      "execution_count": 4,
      "outputs": []
    },
    {
      "cell_type": "code",
      "source": [
        "print(soup.prettify())"
      ],
      "metadata": {
        "colab": {
          "base_uri": "https://localhost:8080/"
        },
        "id": "SGG6th5Q4Ucw",
        "outputId": "8775aaea-a347-4592-9da5-1ac96ff3d244"
      },
      "execution_count": 6,
      "outputs": [
        {
          "output_type": "stream",
          "name": "stdout",
          "text": [
            "<html>\n",
            " <head>\n",
            "  <title>\n",
            "   Document Title\n",
            "  </title>\n",
            " </head>\n",
            " <body>\n",
            "  <div class=\"content\">\n",
            "   <p class=\"first\">\n",
            "    first para\n",
            "   </p>\n",
            "   <p class=\"second\">\n",
            "    second para\n",
            "   </p>\n",
            "   <a href=\"www.xyz.com\" id=\"link1\">\n",
            "    Link1\n",
            "   </a>\n",
            "   <a href=\"www.pqr..com\" id=\"link2\">\n",
            "    Link2\n",
            "   </a>\n",
            "  </div>\n",
            " </body>\n",
            "</html>\n"
          ]
        }
      ]
    },
    {
      "cell_type": "code",
      "source": [
        "soup.title"
      ],
      "metadata": {
        "colab": {
          "base_uri": "https://localhost:8080/"
        },
        "id": "xXAGtWB84wXO",
        "outputId": "41c862b2-fe5f-465e-83d3-af277192a797"
      },
      "execution_count": 7,
      "outputs": [
        {
          "output_type": "execute_result",
          "data": {
            "text/plain": [
              "<title>Document Title </title>"
            ]
          },
          "metadata": {},
          "execution_count": 7
        }
      ]
    },
    {
      "cell_type": "code",
      "source": [
        "soup.title.string"
      ],
      "metadata": {
        "colab": {
          "base_uri": "https://localhost:8080/",
          "height": 36
        },
        "id": "hGFalT8B45a-",
        "outputId": "8d0c0bdd-e06b-4102-ed9e-98c6d95d2046"
      },
      "execution_count": 9,
      "outputs": [
        {
          "output_type": "execute_result",
          "data": {
            "application/vnd.google.colaboratory.intrinsic+json": {
              "type": "string"
            },
            "text/plain": [
              "'Document Title '"
            ]
          },
          "metadata": {},
          "execution_count": 9
        }
      ]
    },
    {
      "cell_type": "code",
      "source": [
        "soup.title.text"
      ],
      "metadata": {
        "colab": {
          "base_uri": "https://localhost:8080/",
          "height": 36
        },
        "id": "1iotvePq5CN0",
        "outputId": "68aac973-cf2c-462d-ed13-b10011cb8451"
      },
      "execution_count": 10,
      "outputs": [
        {
          "output_type": "execute_result",
          "data": {
            "application/vnd.google.colaboratory.intrinsic+json": {
              "type": "string"
            },
            "text/plain": [
              "'Document Title '"
            ]
          },
          "metadata": {},
          "execution_count": 10
        }
      ]
    },
    {
      "cell_type": "code",
      "source": [
        "soup.div"
      ],
      "metadata": {
        "colab": {
          "base_uri": "https://localhost:8080/"
        },
        "id": "Tyu817R05J3N",
        "outputId": "8c88ba5f-2c5a-452c-9e6a-ccec298334ad"
      },
      "execution_count": 11,
      "outputs": [
        {
          "output_type": "execute_result",
          "data": {
            "text/plain": [
              "<div class=\"content\">\n",
              "<p class=\"first\"> first para</p>\n",
              "<p class=\"second\">second para</p>\n",
              "<a href=\"www.xyz.com\" id=\"link1\">Link1</a>\n",
              "<a href=\"www.pqr..com\" id=\"link2\">Link2</a>\n",
              "</div>"
            ]
          },
          "metadata": {},
          "execution_count": 11
        }
      ]
    },
    {
      "cell_type": "code",
      "source": [
        "soup.title.parent.name"
      ],
      "metadata": {
        "colab": {
          "base_uri": "https://localhost:8080/",
          "height": 36
        },
        "id": "O4UBMjbb5Qkv",
        "outputId": "1967dd6e-7586-433e-ea51-0bd948b4773e"
      },
      "execution_count": 13,
      "outputs": [
        {
          "output_type": "execute_result",
          "data": {
            "application/vnd.google.colaboratory.intrinsic+json": {
              "type": "string"
            },
            "text/plain": [
              "'head'"
            ]
          },
          "metadata": {},
          "execution_count": 13
        }
      ]
    },
    {
      "cell_type": "code",
      "source": [
        "for child in list(soup.div.children):\n",
        "  print(child.string)"
      ],
      "metadata": {
        "colab": {
          "base_uri": "https://localhost:8080/"
        },
        "id": "FgEA0iDV5cwN",
        "outputId": "06fdaec8-64e2-47f7-c7d2-d5f245ec55b9"
      },
      "execution_count": 15,
      "outputs": [
        {
          "output_type": "stream",
          "name": "stdout",
          "text": [
            "\n",
            "\n",
            " first para\n",
            "\n",
            "\n",
            "second para\n",
            "\n",
            "\n",
            "Link1\n",
            "\n",
            "\n",
            "Link2\n",
            "\n",
            "\n"
          ]
        }
      ]
    },
    {
      "cell_type": "code",
      "source": [
        "soup.p"
      ],
      "metadata": {
        "colab": {
          "base_uri": "https://localhost:8080/"
        },
        "id": "9i7ypjUW5yTv",
        "outputId": "5c5f8c42-e51b-4b3a-f0dc-47d6ca123939"
      },
      "execution_count": 16,
      "outputs": [
        {
          "output_type": "execute_result",
          "data": {
            "text/plain": [
              "<p class=\"first\"> first para</p>"
            ]
          },
          "metadata": {},
          "execution_count": 16
        }
      ]
    },
    {
      "cell_type": "code",
      "source": [
        "soup.find(\"p\",class_='second').text"
      ],
      "metadata": {
        "colab": {
          "base_uri": "https://localhost:8080/",
          "height": 36
        },
        "id": "GsivVtdA6H9O",
        "outputId": "8b2ae8dc-f9ca-4557-88ca-7e25d2e8b9f3"
      },
      "execution_count": 17,
      "outputs": [
        {
          "output_type": "execute_result",
          "data": {
            "application/vnd.google.colaboratory.intrinsic+json": {
              "type": "string"
            },
            "text/plain": [
              "'second para'"
            ]
          },
          "metadata": {},
          "execution_count": 17
        }
      ]
    },
    {
      "cell_type": "code",
      "source": [
        "plist=soup.find_all('p')\n",
        "for item in plist:\n",
        "  print(item.string)"
      ],
      "metadata": {
        "colab": {
          "base_uri": "https://localhost:8080/"
        },
        "id": "z_qs8GGm6hae",
        "outputId": "ae38546a-391a-4178-f899-f3449e3e004e"
      },
      "execution_count": 18,
      "outputs": [
        {
          "output_type": "stream",
          "name": "stdout",
          "text": [
            " first para\n",
            "second para\n"
          ]
        }
      ]
    },
    {
      "cell_type": "code",
      "source": [
        ""
      ],
      "metadata": {
        "id": "MbI-r2H26wry"
      },
      "execution_count": null,
      "outputs": []
    }
  ]
}